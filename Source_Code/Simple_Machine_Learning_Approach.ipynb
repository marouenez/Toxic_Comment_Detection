{
 "cells": [
  {
   "cell_type": "code",
   "execution_count": 1,
   "metadata": {
    "nbpresent": {
     "id": "9e5d9ad2-606f-4626-9cb1-0f04396b6880"
    }
   },
   "outputs": [],
   "source": [
    "import numpy as np\n",
    "import pandas as pd\n",
    "from matplotlib import pyplot as plt\n",
    "%matplotlib inline\n",
    "import seaborn as sns\n",
    "import re"
   ]
  },
  {
   "cell_type": "code",
   "execution_count": 2,
   "metadata": {
    "nbpresent": {
     "id": "d83d2cf5-c17c-4f6e-b4ab-075d36f913b6"
    }
   },
   "outputs": [
    {
     "data": {
      "text/html": [
       "\n",
       "<style>\n",
       ".output_png {\n",
       "    display: table-cell;\n",
       "    text-align: center;\n",
       "    vertical-align: middle;\n",
       "}\n",
       "</style>\n"
      ],
      "text/plain": [
       "<IPython.core.display.HTML object>"
      ]
     },
     "execution_count": 2,
     "metadata": {},
     "output_type": "execute_result"
    }
   ],
   "source": [
    "from IPython.core.display import HTML\n",
    "HTML(\"\"\"\n",
    "<style>\n",
    ".output_png {\n",
    "    display: table-cell;\n",
    "    text-align: center;\n",
    "    vertical-align: middle;\n",
    "}\n",
    "</style>\n",
    "\"\"\")"
   ]
  },
  {
   "cell_type": "code",
   "execution_count": 3,
   "metadata": {
    "nbpresent": {
     "id": "9d626ba1-a09c-49d7-8d04-a449377a5e9d"
    }
   },
   "outputs": [
    {
     "data": {
      "text/html": [
       "<div>\n",
       "<style scoped>\n",
       "    .dataframe tbody tr th:only-of-type {\n",
       "        vertical-align: middle;\n",
       "    }\n",
       "\n",
       "    .dataframe tbody tr th {\n",
       "        vertical-align: top;\n",
       "    }\n",
       "\n",
       "    .dataframe thead th {\n",
       "        text-align: right;\n",
       "    }\n",
       "</style>\n",
       "<table border=\"1\" class=\"dataframe\">\n",
       "  <thead>\n",
       "    <tr style=\"text-align: right;\">\n",
       "      <th></th>\n",
       "      <th>comment_text</th>\n",
       "      <th>toxic</th>\n",
       "      <th>severe_toxic</th>\n",
       "      <th>obscene</th>\n",
       "      <th>threat</th>\n",
       "      <th>insult</th>\n",
       "      <th>identity_hate</th>\n",
       "    </tr>\n",
       "  </thead>\n",
       "  <tbody>\n",
       "    <tr>\n",
       "      <th>0</th>\n",
       "      <td>Explanation\\nWhy the edits made under my usern...</td>\n",
       "      <td>0</td>\n",
       "      <td>0</td>\n",
       "      <td>0</td>\n",
       "      <td>0</td>\n",
       "      <td>0</td>\n",
       "      <td>0</td>\n",
       "    </tr>\n",
       "    <tr>\n",
       "      <th>1</th>\n",
       "      <td>D'aww! He matches this background colour I'm s...</td>\n",
       "      <td>0</td>\n",
       "      <td>0</td>\n",
       "      <td>0</td>\n",
       "      <td>0</td>\n",
       "      <td>0</td>\n",
       "      <td>0</td>\n",
       "    </tr>\n",
       "    <tr>\n",
       "      <th>2</th>\n",
       "      <td>Hey man, I'm really not trying to edit war. It...</td>\n",
       "      <td>0</td>\n",
       "      <td>0</td>\n",
       "      <td>0</td>\n",
       "      <td>0</td>\n",
       "      <td>0</td>\n",
       "      <td>0</td>\n",
       "    </tr>\n",
       "    <tr>\n",
       "      <th>3</th>\n",
       "      <td>\"\\nMore\\nI can't make any real suggestions on ...</td>\n",
       "      <td>0</td>\n",
       "      <td>0</td>\n",
       "      <td>0</td>\n",
       "      <td>0</td>\n",
       "      <td>0</td>\n",
       "      <td>0</td>\n",
       "    </tr>\n",
       "    <tr>\n",
       "      <th>4</th>\n",
       "      <td>You, sir, are my hero. Any chance you remember...</td>\n",
       "      <td>0</td>\n",
       "      <td>0</td>\n",
       "      <td>0</td>\n",
       "      <td>0</td>\n",
       "      <td>0</td>\n",
       "      <td>0</td>\n",
       "    </tr>\n",
       "  </tbody>\n",
       "</table>\n",
       "</div>"
      ],
      "text/plain": [
       "                                        comment_text  toxic  severe_toxic  \\\n",
       "0  Explanation\\nWhy the edits made under my usern...      0             0   \n",
       "1  D'aww! He matches this background colour I'm s...      0             0   \n",
       "2  Hey man, I'm really not trying to edit war. It...      0             0   \n",
       "3  \"\\nMore\\nI can't make any real suggestions on ...      0             0   \n",
       "4  You, sir, are my hero. Any chance you remember...      0             0   \n",
       "\n",
       "   obscene  threat  insult  identity_hate  \n",
       "0        0       0       0              0  \n",
       "1        0       0       0              0  \n",
       "2        0       0       0              0  \n",
       "3        0       0       0              0  \n",
       "4        0       0       0              0  "
      ]
     },
     "execution_count": 3,
     "metadata": {},
     "output_type": "execute_result"
    }
   ],
   "source": [
    "train_df = pd.read_csv(\"input/train.csv\")\n",
    "train_df.drop('id', axis = 1,inplace = True)\n",
    "train_df.head()"
   ]
  },
  {
   "cell_type": "code",
   "execution_count": 4,
   "metadata": {},
   "outputs": [
    {
     "data": {
      "text/plain": [
       "(159571, 7)"
      ]
     },
     "execution_count": 4,
     "metadata": {},
     "output_type": "execute_result"
    }
   ],
   "source": [
    "train_df.shape"
   ]
  },
  {
   "cell_type": "code",
   "execution_count": 5,
   "metadata": {},
   "outputs": [
    {
     "data": {
      "text/plain": [
       "<matplotlib.axes._subplots.AxesSubplot at 0x7f22db075c88>"
      ]
     },
     "execution_count": 5,
     "metadata": {},
     "output_type": "execute_result"
    },
    {
     "data": {
      "image/png": "[encoded data removed]",
      "text/plain": [
       "<Figure size 1152x720 with 6 Axes>"
      ]
     },
     "metadata": {
      "needs_background": "light"
     },
     "output_type": "display_data"
    }
   ],
   "source": [
    "fig,ax = plt.subplots(2,3,figsize=(16,10))\n",
    "ax1,ax2,ax3,ax4,ax5,ax6 = ax.flatten()\n",
    "sns.countplot(train_df['toxic'],palette= 'viridis',ax=ax1)\n",
    "sns.countplot(train_df['severe_toxic'], palette= 'viridis',ax=ax2)\n",
    "sns.countplot(train_df['obscene'], palette= 'viridis',ax=ax3)\n",
    "sns.countplot(train_df['threat'], palette= 'viridis',ax = ax4)\n",
    "sns.countplot(train_df['insult'], palette = 'viridis',ax=ax5)\n",
    "sns.countplot(train_df['identity_hate'], palette = 'viridis', ax = ax6)"
   ]
  },
  {
   "cell_type": "code",
   "execution_count": 6,
   "metadata": {},
   "outputs": [
    {
     "data": {
      "text/html": [
       "<div>\n",
       "<style scoped>\n",
       "    .dataframe tbody tr th:only-of-type {\n",
       "        vertical-align: middle;\n",
       "    }\n",
       "\n",
       "    .dataframe tbody tr th {\n",
       "        vertical-align: top;\n",
       "    }\n",
       "\n",
       "    .dataframe thead th {\n",
       "        text-align: right;\n",
       "    }\n",
       "</style>\n",
       "<table border=\"1\" class=\"dataframe\">\n",
       "  <thead>\n",
       "    <tr style=\"text-align: right;\">\n",
       "      <th></th>\n",
       "      <th>comment_text</th>\n",
       "    </tr>\n",
       "  </thead>\n",
       "  <tbody>\n",
       "    <tr>\n",
       "      <th>0</th>\n",
       "      <td>Yo bitch Ja Rule is more succesful then you'll...</td>\n",
       "    </tr>\n",
       "    <tr>\n",
       "      <th>1</th>\n",
       "      <td>== From RfC == \\n\\n The title is fine as it is...</td>\n",
       "    </tr>\n",
       "    <tr>\n",
       "      <th>2</th>\n",
       "      <td>\" \\n\\n == Sources == \\n\\n * Zawe Ashton on Lap...</td>\n",
       "    </tr>\n",
       "    <tr>\n",
       "      <th>3</th>\n",
       "      <td>:If you have a look back at the source, the in...</td>\n",
       "    </tr>\n",
       "    <tr>\n",
       "      <th>4</th>\n",
       "      <td>I don't anonymously edit articles at all.</td>\n",
       "    </tr>\n",
       "  </tbody>\n",
       "</table>\n",
       "</div>"
      ],
      "text/plain": [
       "                                        comment_text\n",
       "0  Yo bitch Ja Rule is more succesful then you'll...\n",
       "1  == From RfC == \\n\\n The title is fine as it is...\n",
       "2  \" \\n\\n == Sources == \\n\\n * Zawe Ashton on Lap...\n",
       "3  :If you have a look back at the source, the in...\n",
       "4          I don't anonymously edit articles at all."
      ]
     },
     "execution_count": 6,
     "metadata": {},
     "output_type": "execute_result"
    }
   ],
   "source": [
    "test_df = pd.read_csv(\"input/test.csv\")\n",
    "test_df.drop('id', axis = 1,inplace = True)\n",
    "test_df.head()"
   ]
  },
  {
   "cell_type": "code",
   "execution_count": 7,
   "metadata": {},
   "outputs": [],
   "source": [
    "def clean_text(text):\n",
    "    text = text.lower()\n",
    "    text = re.sub(r\"what's\", \"what is \", text)\n",
    "    text = re.sub(r\"\\'s\", \" \", text)\n",
    "    text = re.sub(r\"\\'ve\", \" have \", text)\n",
    "    text = re.sub(r\"can't\", \"cannot \", text)\n",
    "    text = re.sub(r\"n't\", \" not \", text)\n",
    "    text = re.sub(r\"i'm\", \"i am \", text)\n",
    "    text = re.sub(r\"\\'re\", \" are \", text)\n",
    "    text = re.sub(r\"\\'d\", \" would \", text)\n",
    "    text = re.sub(r\"\\'ll\", \" will \", text)\n",
    "    text = re.sub(r\"\\'scuse\", \" excuse \", text)\n",
    "    text = re.sub('\\W', ' ', text)\n",
    "    text = re.sub('\\s+', ' ', text)\n",
    "    text = text.strip(' ')\n",
    "    return text"
   ]
  },
  {
   "cell_type": "code",
   "execution_count": 8,
   "metadata": {},
   "outputs": [],
   "source": [
    "# clean the comment_text in train_df\n",
    "cleaned_train_comment = []\n",
    "for i in range(0,len(train_df)):\n",
    "    cleaned_comment = clean_text(train_df['comment_text'][i])\n",
    "    cleaned_train_comment.append(cleaned_comment)\n",
    "train_df['comment_text'] = pd.Series(cleaned_train_comment).astype(str)"
   ]
  },
  {
   "cell_type": "code",
   "execution_count": 9,
   "metadata": {},
   "outputs": [
    {
     "data": {
      "text/plain": [
       "'however the moonlite edit noted by golden daph was me on optus wake up wikkis so funny'"
      ]
     },
     "execution_count": 9,
     "metadata": {},
     "output_type": "execute_result"
    }
   ],
   "source": [
    "cleaned_train_comment[100]"
   ]
  },
  {
   "cell_type": "code",
   "execution_count": 10,
   "metadata": {},
   "outputs": [],
   "source": [
    "## Test set\n",
    "cleaned_test_comment = []\n",
    "for i in range(0,len(test_df)):\n",
    "    cleaned_comment = clean_text(test_df['comment_text'][i])\n",
    "    cleaned_test_comment.append(cleaned_comment)\n",
    "test_df['comment_text'] = pd.Series(cleaned_test_comment).astype(str)"
   ]
  },
  {
   "cell_type": "code",
   "execution_count": 11,
   "metadata": {},
   "outputs": [],
   "source": [
    "target = ['toxic','severe_toxic','obscene','threat','insult','identity_hate']"
   ]
  },
  {
   "cell_type": "code",
   "execution_count": 12,
   "metadata": {
    "nbpresent": {
     "id": "b602462b-41e0-4a0d-83b1-bcb101e06d20"
    }
   },
   "outputs": [
    {
     "name": "stdout",
     "output_type": "stream",
     "text": [
      "... Processing toxic\n",
      "Class toxic\n",
      "Accuracy is  : 96.9%\n",
      "[[35608   388]\n",
      " [ 1260  2637]]\n",
      "Five non-toxic comments classified as toxic\n",
      "\n",
      "1 - stop writing on my page you are only making things worse for yourself\n",
      "2 - destroy all modernists make them pay for their hatred of stoicism and classicism\n",
      "3 - maltese dog again\n",
      "4 - pain damn right about the pain this thing is killing me\n",
      "5 - condolences to you your wife and family my prayers are with you\n",
      "__________________________________________________\n",
      "... Processing severe_toxic\n",
      "Class severe_toxic\n",
      "Accuracy is  : 97.7%\n",
      "[[39389   109]\n",
      " [  282   113]]\n",
      "Five non-severe_toxic comments classified as severe_toxic\n",
      "\n",
      "1 - hey fuck you you cocksucker i was talking to daymee you fucking retard\n",
      "2 - you are a big dickhead your an asshole it was not me you utter bellend\n",
      "3 - delete it and my ip address you stupid fucking faggot now\n",
      "4 - fuck you motha fucka penis\n",
      "5 - you are no fucking metal lord dumbass you are a fag fuck you\n",
      "__________________________________________________\n",
      "... Processing obscene\n",
      "Class obscene\n",
      "Accuracy is  : 97.9%\n",
      "[[37585   210]\n",
      " [  652  1446]]\n",
      "Five non-obscene comments classified as obscene\n",
      "\n",
      "1 - shutup u ai not nobody u ugly gay fag\n",
      "2 - 78 101 161 86 anna like ma deeeek\n",
      "3 - http theins ru news 4122 http russian rt com article 77884 fake and shit official denial\n",
      "4 - i will say nigger if i want to bro\n",
      "5 - do you fart i just did youre an idiot\n",
      "__________________________________________________\n",
      "... Processing threat\n",
      "Class threat\n",
      "Accuracy is  : 98.1%\n",
      "[[39743    17]\n",
      " [   99    34]]\n",
      "Five non-threat comments classified as threat\n",
      "\n",
      "1 - i am a smack ya upside da head wit a shovel i am takin ya down boi\n",
      "2 - i am going to rape you dead if you revert my changes again i will fucking rape you dead\n",
      "3 - you are a raging faggot kill yourself\n",
      "4 - you are a fucking cunt and i am going to track you down fuck head piece of shit\n",
      "5 - now its your turn you should of mined ur own bussiness help im going to kill myslf\n",
      "__________________________________________________\n",
      "... Processing insult\n",
      "Class insult\n",
      "Accuracy is  : 97.1%\n",
      "[[37606   311]\n",
      " [  812  1164]]\n",
      "Five non-insult comments classified as insult\n",
      "\n",
      "1 - elonka sucks black cocks\n",
      "2 - shutup u ai not nobody u ugly gay fag\n",
      "3 - text edit fuck shit cunt\n",
      "4 - in response fuck you\n",
      "5 - if you do not let me post i will fuck you up\n",
      "__________________________________________________\n",
      "... Processing identity_hate\n",
      "Class identity_hate\n",
      "Accuracy is  : 96.9%\n",
      "[[39485    42]\n",
      " [  254   112]]\n",
      "Five non-identity_hate comments classified as identity_hate\n",
      "\n",
      "1 - is a cocksucker faggot d\n",
      "2 - flowers is a big old queen fo a gay boi 132 3 65 68\n",
      "3 - i am proud to be a homosexual gay pride 2008\n",
      "4 - homosexual marriage is totally gay well it is 12 204 164 179\n",
      "5 - gay dumb cunt swuck my dick faggotttttttt\n",
      "__________________________________________________\n",
      "Excecution time : 3.0 min and 16.20192003250122 s\n"
     ]
    }
   ],
   "source": [
    "from sklearn.model_selection import train_test_split\n",
    "from sklearn.metrics import classification_report\n",
    "from sklearn.feature_extraction.text import TfidfVectorizer\n",
    "import time\n",
    "#import and instantiate the Logistic Regression model\n",
    "from sklearn.linear_model import LogisticRegression\n",
    "from sklearn import metrics\n",
    "logreg = LogisticRegression(C=12.0,solver = 'liblinear')\n",
    "vec_tfid = TfidfVectorizer(ngram_range=(1,2),min_df=3, max_df=0.9,\n",
    "                           strip_accents='unicode', use_idf=1,smooth_idf=1,\n",
    "                           sublinear_tf=1, max_features = 40000)\n",
    "model_tab= {}\n",
    "start = time.time()\n",
    "for i,label in enumerate(target):\n",
    "    print('... Processing {}'.format(label))\n",
    "    X = train_df.comment_text\n",
    "    y = train_df[label]\n",
    "    X_train, X_test, y_train, y_test = train_test_split(X, y, random_state=1)\n",
    "\n",
    "    X_train_vec = vec_tfid.fit_transform(X_train)\n",
    "    X_test_vec = vec_tfid.transform(X_test)\n",
    "    logreg.fit(X_train_vec, y_train)\n",
    "    model_tab[label] = logreg\n",
    "    y_pred_class = logreg.predict(X_test_vec)\n",
    "    y_pred_prob = logreg.predict_proba(X_test_vec)[:, 1]\n",
    "\n",
    "    # calculate AUC\n",
    "    model_accuracy = metrics.roc_auc_score(y_test, y_pred_prob)\n",
    "    \n",
    "    print('Class '+label)\n",
    "    print('Accuracy is  : {0:.3g}%'.format(model_accuracy*100))\n",
    "    print(metrics.confusion_matrix(y_test, y_pred_class))\n",
    "    print('Five non-'+label+' comments classified as '+label)\n",
    "    print(\"\")\n",
    "    false_class =  X_test[y_test < y_pred_class]\n",
    "    i=0\n",
    "    for x in false_class:\n",
    "        if i<5 and len(x) < 100:\n",
    "            print(str(i+1)+' - '+x)\n",
    "            i+=1\n",
    "    \n",
    "    print(50*'_')\n",
    "    \n",
    "diff = time.time()-start\n",
    "minutes, seconds = diff // 60, diff % 60\n",
    "print('Excecution time : '+ str(minutes)+' min and '+str(seconds)+' s' )"
   ]
  },
  {
   "cell_type": "markdown",
   "metadata": {
    "nbpresent": {
     "id": "72bdd77f-efc1-4bc9-b79d-833da402da11"
    }
   },
   "source": [
    "### Exploring toxic and not toxic words"
   ]
  },
  {
   "cell_type": "code",
   "execution_count": 13,
   "metadata": {
    "nbpresent": {
     "id": "bb45faed-cee7-431c-bb5f-a0df4e780dad"
    }
   },
   "outputs": [
    {
     "data": {
      "text/plain": [
       "40000"
      ]
     },
     "execution_count": 13,
     "metadata": {},
     "output_type": "execute_result"
    }
   ],
   "source": [
    "from sklearn.naive_bayes import MultinomialNB\n",
    "nb = MultinomialNB()\n",
    "\n",
    "X_vec = vec_tfid.fit_transform(train_df.comment_text)\n",
    "nb.fit(X_vec,train_df['toxic'])\n",
    "\n",
    "# store the vocabulary of X_train\n",
    "X_train_tokens = vec_tfid.get_feature_names()\n",
    "len(X_train_tokens)"
   ]
  },
  {
   "cell_type": "code",
   "execution_count": 14,
   "metadata": {
    "nbpresent": {
     "id": "1d07d489-f6cc-405e-af52-76a48f28fd98"
    }
   },
   "outputs": [
    {
     "data": {
      "text/plain": [
       "array([[ 92.74063701, 116.41671058,  11.46965061, ...,   7.71097107,\n",
       "          0.840224  ,   0.77154478],\n",
       "       [  4.48056129,   4.98450286,   0.74862852, ...,   0.20971683,\n",
       "          0.48994778,   0.46563441]])"
      ]
     },
     "execution_count": 14,
     "metadata": {},
     "output_type": "execute_result"
    }
   ],
   "source": [
    "# Naive Bayes counts the number of times each token appears in each class\n",
    "nb.feature_count_"
   ]
  },
  {
   "cell_type": "code",
   "execution_count": 15,
   "metadata": {
    "nbpresent": {
     "id": "a4f7e33f-feab-4429-bff5-82b722fc6728"
    }
   },
   "outputs": [
    {
     "data": {
      "text/plain": [
       "array([ 92.74063701, 116.41671058,  11.46965061, ...,   7.71097107,\n",
       "         0.840224  ,   0.77154478])"
      ]
     },
     "execution_count": 15,
     "metadata": {},
     "output_type": "execute_result"
    }
   ],
   "source": [
    "\n",
    "# number of times each token appears across all Not toxic messages\n",
    "Not_Toxic_token_count = nb.feature_count_[0, :]\n",
    "Not_Toxic_token_count"
   ]
  },
  {
   "cell_type": "code",
   "execution_count": 16,
   "metadata": {
    "nbpresent": {
     "id": "19d5af10-8bfe-4ca5-9221-e2de6ec00f8b"
    }
   },
   "outputs": [
    {
     "data": {
      "text/plain": [
       "array([4.48056129, 4.98450286, 0.74862852, ..., 0.20971683, 0.48994778,\n",
       "       0.46563441])"
      ]
     },
     "execution_count": 16,
     "metadata": {},
     "output_type": "execute_result"
    }
   ],
   "source": [
    "# number of times each token appears across all Toxic messages\n",
    "Toxic_token_count = nb.feature_count_[1, :]\n",
    "Toxic_token_count"
   ]
  },
  {
   "cell_type": "code",
   "execution_count": 17,
   "metadata": {
    "nbpresent": {
     "id": "12da8e82-375e-4c9f-b25a-4f8dfd72710d"
    }
   },
   "outputs": [
    {
     "data": {
      "text/html": [
       "<div>\n",
       "<style scoped>\n",
       "    .dataframe tbody tr th:only-of-type {\n",
       "        vertical-align: middle;\n",
       "    }\n",
       "\n",
       "    .dataframe tbody tr th {\n",
       "        vertical-align: top;\n",
       "    }\n",
       "\n",
       "    .dataframe thead th {\n",
       "        text-align: right;\n",
       "    }\n",
       "</style>\n",
       "<table border=\"1\" class=\"dataframe\">\n",
       "  <thead>\n",
       "    <tr style=\"text-align: right;\">\n",
       "      <th></th>\n",
       "      <th>Not_toxic</th>\n",
       "      <th>Toxic</th>\n",
       "    </tr>\n",
       "    <tr>\n",
       "      <th>token</th>\n",
       "      <th></th>\n",
       "      <th></th>\n",
       "    </tr>\n",
       "  </thead>\n",
       "  <tbody>\n",
       "    <tr>\n",
       "      <th>00</th>\n",
       "      <td>92.740637</td>\n",
       "      <td>4.480561</td>\n",
       "    </tr>\n",
       "    <tr>\n",
       "      <th>000</th>\n",
       "      <td>116.416711</td>\n",
       "      <td>4.984503</td>\n",
       "    </tr>\n",
       "    <tr>\n",
       "      <th>000 000</th>\n",
       "      <td>11.469651</td>\n",
       "      <td>0.748629</td>\n",
       "    </tr>\n",
       "    <tr>\n",
       "      <th>000 build</th>\n",
       "      <td>4.859878</td>\n",
       "      <td>0.000000</td>\n",
       "    </tr>\n",
       "    <tr>\n",
       "      <th>000 edits</th>\n",
       "      <td>5.117145</td>\n",
       "      <td>0.798637</td>\n",
       "    </tr>\n",
       "  </tbody>\n",
       "</table>\n",
       "</div>"
      ],
      "text/plain": [
       "            Not_toxic     Toxic\n",
       "token                          \n",
       "00          92.740637  4.480561\n",
       "000        116.416711  4.984503\n",
       "000 000     11.469651  0.748629\n",
       "000 build    4.859878  0.000000\n",
       "000 edits    5.117145  0.798637"
      ]
     },
     "execution_count": 17,
     "metadata": {},
     "output_type": "execute_result"
    }
   ],
   "source": [
    "# create a DataFrame of tokens with their separate not toxic and toxic counts\n",
    "tokens = pd.DataFrame({'token':X_train_tokens, 'Not_toxic':Not_Toxic_token_count, 'Toxic':Toxic_token_count}).set_index('token')\n",
    "tokens.head()"
   ]
  },
  {
   "cell_type": "code",
   "execution_count": 18,
   "metadata": {
    "nbpresent": {
     "id": "c3ea41a7-993c-4834-a532-b3924f241d04"
    }
   },
   "outputs": [
    {
     "data": {
      "text/html": [
       "<div>\n",
       "<style scoped>\n",
       "    .dataframe tbody tr th:only-of-type {\n",
       "        vertical-align: middle;\n",
       "    }\n",
       "\n",
       "    .dataframe tbody tr th {\n",
       "        vertical-align: top;\n",
       "    }\n",
       "\n",
       "    .dataframe thead th {\n",
       "        text-align: right;\n",
       "    }\n",
       "</style>\n",
       "<table border=\"1\" class=\"dataframe\">\n",
       "  <thead>\n",
       "    <tr style=\"text-align: right;\">\n",
       "      <th></th>\n",
       "      <th>Not_toxic</th>\n",
       "      <th>Toxic</th>\n",
       "    </tr>\n",
       "    <tr>\n",
       "      <th>token</th>\n",
       "      <th></th>\n",
       "      <th></th>\n",
       "    </tr>\n",
       "  </thead>\n",
       "  <tbody>\n",
       "    <tr>\n",
       "      <th>the late</th>\n",
       "      <td>23.311213</td>\n",
       "      <td>0.804122</td>\n",
       "    </tr>\n",
       "    <tr>\n",
       "      <th>senators</th>\n",
       "      <td>5.429543</td>\n",
       "      <td>0.219870</td>\n",
       "    </tr>\n",
       "    <tr>\n",
       "      <th>calendar</th>\n",
       "      <td>18.261965</td>\n",
       "      <td>0.325213</td>\n",
       "    </tr>\n",
       "    <tr>\n",
       "      <th>think about</th>\n",
       "      <td>48.496000</td>\n",
       "      <td>6.062700</td>\n",
       "    </tr>\n",
       "    <tr>\n",
       "      <th>tickets</th>\n",
       "      <td>5.210887</td>\n",
       "      <td>0.518902</td>\n",
       "    </tr>\n",
       "  </tbody>\n",
       "</table>\n",
       "</div>"
      ],
      "text/plain": [
       "             Not_toxic     Toxic\n",
       "token                           \n",
       "the late     23.311213  0.804122\n",
       "senators      5.429543  0.219870\n",
       "calendar     18.261965  0.325213\n",
       "think about  48.496000  6.062700\n",
       "tickets       5.210887  0.518902"
      ]
     },
     "execution_count": 18,
     "metadata": {},
     "output_type": "execute_result"
    }
   ],
   "source": [
    "# examine 5 random DataFrame rows\n",
    "tokens.sample(5, random_state=123)"
   ]
  },
  {
   "cell_type": "code",
   "execution_count": 19,
   "metadata": {
    "nbpresent": {
     "id": "18766647-89a7-4908-be44-8101a33000b1"
    }
   },
   "outputs": [
    {
     "data": {
      "text/plain": [
       "array([144277.,  15294.])"
      ]
     },
     "execution_count": 19,
     "metadata": {},
     "output_type": "execute_result"
    }
   ],
   "source": [
    "# Naive Bayes counts the number of observations in each class\n",
    "nb.class_count_"
   ]
  },
  {
   "cell_type": "code",
   "execution_count": 20,
   "metadata": {
    "nbpresent": {
     "id": "5c5fc4cf-539d-476c-92c5-6ce8eb17f83a"
    }
   },
   "outputs": [
    {
     "data": {
      "text/html": [
       "<div>\n",
       "<style scoped>\n",
       "    .dataframe tbody tr th:only-of-type {\n",
       "        vertical-align: middle;\n",
       "    }\n",
       "\n",
       "    .dataframe tbody tr th {\n",
       "        vertical-align: top;\n",
       "    }\n",
       "\n",
       "    .dataframe thead th {\n",
       "        text-align: right;\n",
       "    }\n",
       "</style>\n",
       "<table border=\"1\" class=\"dataframe\">\n",
       "  <thead>\n",
       "    <tr style=\"text-align: right;\">\n",
       "      <th></th>\n",
       "      <th>Not_toxic</th>\n",
       "      <th>Toxic</th>\n",
       "    </tr>\n",
       "    <tr>\n",
       "      <th>token</th>\n",
       "      <th></th>\n",
       "      <th></th>\n",
       "    </tr>\n",
       "  </thead>\n",
       "  <tbody>\n",
       "    <tr>\n",
       "      <th>the late</th>\n",
       "      <td>24.311213</td>\n",
       "      <td>1.804122</td>\n",
       "    </tr>\n",
       "    <tr>\n",
       "      <th>senators</th>\n",
       "      <td>6.429543</td>\n",
       "      <td>1.219870</td>\n",
       "    </tr>\n",
       "    <tr>\n",
       "      <th>calendar</th>\n",
       "      <td>19.261965</td>\n",
       "      <td>1.325213</td>\n",
       "    </tr>\n",
       "    <tr>\n",
       "      <th>think about</th>\n",
       "      <td>49.496000</td>\n",
       "      <td>7.062700</td>\n",
       "    </tr>\n",
       "    <tr>\n",
       "      <th>tickets</th>\n",
       "      <td>6.210887</td>\n",
       "      <td>1.518902</td>\n",
       "    </tr>\n",
       "  </tbody>\n",
       "</table>\n",
       "</div>"
      ],
      "text/plain": [
       "             Not_toxic     Toxic\n",
       "token                           \n",
       "the late     24.311213  1.804122\n",
       "senators      6.429543  1.219870\n",
       "calendar     19.261965  1.325213\n",
       "think about  49.496000  7.062700\n",
       "tickets       6.210887  1.518902"
      ]
     },
     "execution_count": 20,
     "metadata": {},
     "output_type": "execute_result"
    }
   ],
   "source": [
    "# add 1 to not toxic and toxic counts to avoid dividing by 0\n",
    "tokens['Not_toxic'] = tokens.Not_toxic + 1\n",
    "tokens['Toxic'] = tokens.Toxic + 1\n",
    "tokens.sample(5, random_state=123)"
   ]
  },
  {
   "cell_type": "code",
   "execution_count": 21,
   "metadata": {
    "nbpresent": {
     "id": "d99ca327-70cb-420c-ab07-6cae73316738"
    }
   },
   "outputs": [
    {
     "data": {
      "text/html": [
       "<div>\n",
       "<style scoped>\n",
       "    .dataframe tbody tr th:only-of-type {\n",
       "        vertical-align: middle;\n",
       "    }\n",
       "\n",
       "    .dataframe tbody tr th {\n",
       "        vertical-align: top;\n",
       "    }\n",
       "\n",
       "    .dataframe thead th {\n",
       "        text-align: right;\n",
       "    }\n",
       "</style>\n",
       "<table border=\"1\" class=\"dataframe\">\n",
       "  <thead>\n",
       "    <tr style=\"text-align: right;\">\n",
       "      <th></th>\n",
       "      <th>Not_toxic</th>\n",
       "      <th>Toxic</th>\n",
       "    </tr>\n",
       "    <tr>\n",
       "      <th>token</th>\n",
       "      <th></th>\n",
       "      <th></th>\n",
       "    </tr>\n",
       "  </thead>\n",
       "  <tbody>\n",
       "    <tr>\n",
       "      <th>the late</th>\n",
       "      <td>0.000169</td>\n",
       "      <td>0.000118</td>\n",
       "    </tr>\n",
       "    <tr>\n",
       "      <th>senators</th>\n",
       "      <td>0.000045</td>\n",
       "      <td>0.000080</td>\n",
       "    </tr>\n",
       "    <tr>\n",
       "      <th>calendar</th>\n",
       "      <td>0.000134</td>\n",
       "      <td>0.000087</td>\n",
       "    </tr>\n",
       "    <tr>\n",
       "      <th>think about</th>\n",
       "      <td>0.000343</td>\n",
       "      <td>0.000462</td>\n",
       "    </tr>\n",
       "    <tr>\n",
       "      <th>tickets</th>\n",
       "      <td>0.000043</td>\n",
       "      <td>0.000099</td>\n",
       "    </tr>\n",
       "  </tbody>\n",
       "</table>\n",
       "</div>"
      ],
      "text/plain": [
       "             Not_toxic     Toxic\n",
       "token                           \n",
       "the late      0.000169  0.000118\n",
       "senators      0.000045  0.000080\n",
       "calendar      0.000134  0.000087\n",
       "think about   0.000343  0.000462\n",
       "tickets       0.000043  0.000099"
      ]
     },
     "execution_count": 21,
     "metadata": {},
     "output_type": "execute_result"
    }
   ],
   "source": [
    "# convert the ham and spam counts into frequencies\n",
    "tokens['Not_toxic']  = tokens.Not_toxic  / nb.class_count_[0]\n",
    "tokens['Toxic']  = tokens.Toxic / nb.class_count_[1]\n",
    "tokens.sample(5, random_state=123)"
   ]
  },
  {
   "cell_type": "code",
   "execution_count": 22,
   "metadata": {
    "nbpresent": {
     "id": "2c377949-9bdf-470c-ab40-650b093cdab5"
    }
   },
   "outputs": [
    {
     "data": {
      "text/html": [
       "<div>\n",
       "<style scoped>\n",
       "    .dataframe tbody tr th:only-of-type {\n",
       "        vertical-align: middle;\n",
       "    }\n",
       "\n",
       "    .dataframe tbody tr th {\n",
       "        vertical-align: top;\n",
       "    }\n",
       "\n",
       "    .dataframe thead th {\n",
       "        text-align: right;\n",
       "    }\n",
       "</style>\n",
       "<table border=\"1\" class=\"dataframe\">\n",
       "  <thead>\n",
       "    <tr style=\"text-align: right;\">\n",
       "      <th></th>\n",
       "      <th>Not_toxic</th>\n",
       "      <th>Toxic</th>\n",
       "      <th>spam_ratio</th>\n",
       "    </tr>\n",
       "    <tr>\n",
       "      <th>token</th>\n",
       "      <th></th>\n",
       "      <th></th>\n",
       "      <th></th>\n",
       "    </tr>\n",
       "  </thead>\n",
       "  <tbody>\n",
       "    <tr>\n",
       "      <th>the late</th>\n",
       "      <td>0.000169</td>\n",
       "      <td>0.000118</td>\n",
       "      <td>0.700060</td>\n",
       "    </tr>\n",
       "    <tr>\n",
       "      <th>senators</th>\n",
       "      <td>0.000045</td>\n",
       "      <td>0.000080</td>\n",
       "      <td>1.789820</td>\n",
       "    </tr>\n",
       "    <tr>\n",
       "      <th>calendar</th>\n",
       "      <td>0.000134</td>\n",
       "      <td>0.000087</td>\n",
       "      <td>0.649025</td>\n",
       "    </tr>\n",
       "    <tr>\n",
       "      <th>think about</th>\n",
       "      <td>0.000343</td>\n",
       "      <td>0.000462</td>\n",
       "      <td>1.346098</td>\n",
       "    </tr>\n",
       "    <tr>\n",
       "      <th>tickets</th>\n",
       "      <td>0.000043</td>\n",
       "      <td>0.000099</td>\n",
       "      <td>2.307024</td>\n",
       "    </tr>\n",
       "    <tr>\n",
       "      <th>dis</th>\n",
       "      <td>0.000048</td>\n",
       "      <td>0.000358</td>\n",
       "      <td>7.468168</td>\n",
       "    </tr>\n",
       "    <tr>\n",
       "      <th>him it</th>\n",
       "      <td>0.000056</td>\n",
       "      <td>0.000120</td>\n",
       "      <td>2.138449</td>\n",
       "    </tr>\n",
       "    <tr>\n",
       "      <th>higher than</th>\n",
       "      <td>0.000074</td>\n",
       "      <td>0.000082</td>\n",
       "      <td>1.109370</td>\n",
       "    </tr>\n",
       "    <tr>\n",
       "      <th>finding freely</th>\n",
       "      <td>0.000037</td>\n",
       "      <td>0.000065</td>\n",
       "      <td>1.754843</td>\n",
       "    </tr>\n",
       "    <tr>\n",
       "      <th>insufficient</th>\n",
       "      <td>0.000073</td>\n",
       "      <td>0.000084</td>\n",
       "      <td>1.152248</td>\n",
       "    </tr>\n",
       "  </tbody>\n",
       "</table>\n",
       "</div>"
      ],
      "text/plain": [
       "                Not_toxic     Toxic  spam_ratio\n",
       "token                                          \n",
       "the late         0.000169  0.000118    0.700060\n",
       "senators         0.000045  0.000080    1.789820\n",
       "calendar         0.000134  0.000087    0.649025\n",
       "think about      0.000343  0.000462    1.346098\n",
       "tickets          0.000043  0.000099    2.307024\n",
       "dis              0.000048  0.000358    7.468168\n",
       "him it           0.000056  0.000120    2.138449\n",
       "higher than      0.000074  0.000082    1.109370\n",
       "finding freely   0.000037  0.000065    1.754843\n",
       "insufficient     0.000073  0.000084    1.152248"
      ]
     },
     "execution_count": 22,
     "metadata": {},
     "output_type": "execute_result"
    }
   ],
   "source": [
    "# calculate the ratio of toxic to non-toxic for each token\n",
    "tokens['spam_ratio'] = tokens.Toxic/ tokens.Not_toxic\n",
    "tokens.sample(10, random_state=123)"
   ]
  },
  {
   "cell_type": "code",
   "execution_count": 23,
   "metadata": {
    "nbpresent": {
     "id": "10249ecc-c6a9-431a-86e3-537a08663c6a"
    }
   },
   "outputs": [
    {
     "data": {
      "text/html": [
       "<div>\n",
       "<style scoped>\n",
       "    .dataframe tbody tr th:only-of-type {\n",
       "        vertical-align: middle;\n",
       "    }\n",
       "\n",
       "    .dataframe tbody tr th {\n",
       "        vertical-align: top;\n",
       "    }\n",
       "\n",
       "    .dataframe thead th {\n",
       "        text-align: right;\n",
       "    }\n",
       "</style>\n",
       "<table border=\"1\" class=\"dataframe\">\n",
       "  <thead>\n",
       "    <tr style=\"text-align: right;\">\n",
       "      <th></th>\n",
       "      <th>Not_toxic</th>\n",
       "      <th>Toxic</th>\n",
       "      <th>spam_ratio</th>\n",
       "    </tr>\n",
       "    <tr>\n",
       "      <th>token</th>\n",
       "      <th></th>\n",
       "      <th></th>\n",
       "      <th></th>\n",
       "    </tr>\n",
       "  </thead>\n",
       "  <tbody>\n",
       "    <tr>\n",
       "      <th>fuck you</th>\n",
       "      <td>0.000014</td>\n",
       "      <td>0.013771</td>\n",
       "      <td>1017.628738</td>\n",
       "    </tr>\n",
       "    <tr>\n",
       "      <th>fuck</th>\n",
       "      <td>0.000069</td>\n",
       "      <td>0.033250</td>\n",
       "      <td>478.750356</td>\n",
       "    </tr>\n",
       "    <tr>\n",
       "      <th>fuck yourself</th>\n",
       "      <td>0.000009</td>\n",
       "      <td>0.004085</td>\n",
       "      <td>445.654132</td>\n",
       "    </tr>\n",
       "    <tr>\n",
       "      <th>you fucking</th>\n",
       "      <td>0.000010</td>\n",
       "      <td>0.004426</td>\n",
       "      <td>442.251036</td>\n",
       "    </tr>\n",
       "    <tr>\n",
       "      <th>go fuck</th>\n",
       "      <td>0.000012</td>\n",
       "      <td>0.005026</td>\n",
       "      <td>412.736865</td>\n",
       "    </tr>\n",
       "    <tr>\n",
       "      <th>fucking</th>\n",
       "      <td>0.000053</td>\n",
       "      <td>0.020091</td>\n",
       "      <td>382.277085</td>\n",
       "    </tr>\n",
       "    <tr>\n",
       "      <th>suck my</th>\n",
       "      <td>0.000009</td>\n",
       "      <td>0.003175</td>\n",
       "      <td>357.582048</td>\n",
       "    </tr>\n",
       "    <tr>\n",
       "      <th>fuck off</th>\n",
       "      <td>0.000019</td>\n",
       "      <td>0.006626</td>\n",
       "      <td>350.450002</td>\n",
       "    </tr>\n",
       "    <tr>\n",
       "      <th>motherfucker</th>\n",
       "      <td>0.000008</td>\n",
       "      <td>0.002681</td>\n",
       "      <td>342.467819</td>\n",
       "    </tr>\n",
       "    <tr>\n",
       "      <th>fucker</th>\n",
       "      <td>0.000010</td>\n",
       "      <td>0.003177</td>\n",
       "      <td>326.617611</td>\n",
       "    </tr>\n",
       "    <tr>\n",
       "      <th>you fuck</th>\n",
       "      <td>0.000007</td>\n",
       "      <td>0.002414</td>\n",
       "      <td>322.981228</td>\n",
       "    </tr>\n",
       "    <tr>\n",
       "      <th>fuckin</th>\n",
       "      <td>0.000010</td>\n",
       "      <td>0.003066</td>\n",
       "      <td>293.662951</td>\n",
       "    </tr>\n",
       "    <tr>\n",
       "      <th>faggot</th>\n",
       "      <td>0.000027</td>\n",
       "      <td>0.007858</td>\n",
       "      <td>292.316325</td>\n",
       "    </tr>\n",
       "    <tr>\n",
       "      <th>you suck</th>\n",
       "      <td>0.000011</td>\n",
       "      <td>0.003209</td>\n",
       "      <td>286.629517</td>\n",
       "    </tr>\n",
       "    <tr>\n",
       "      <th>the fuck</th>\n",
       "      <td>0.000023</td>\n",
       "      <td>0.005838</td>\n",
       "      <td>257.337387</td>\n",
       "    </tr>\n",
       "    <tr>\n",
       "      <th>bitch</th>\n",
       "      <td>0.000047</td>\n",
       "      <td>0.011077</td>\n",
       "      <td>233.936139</td>\n",
       "    </tr>\n",
       "    <tr>\n",
       "      <th>cock</th>\n",
       "      <td>0.000024</td>\n",
       "      <td>0.005184</td>\n",
       "      <td>218.666548</td>\n",
       "    </tr>\n",
       "    <tr>\n",
       "      <th>are fucking</th>\n",
       "      <td>0.000012</td>\n",
       "      <td>0.002354</td>\n",
       "      <td>204.648111</td>\n",
       "    </tr>\n",
       "    <tr>\n",
       "      <th>go suck</th>\n",
       "      <td>0.000007</td>\n",
       "      <td>0.001393</td>\n",
       "      <td>200.979715</td>\n",
       "    </tr>\n",
       "    <tr>\n",
       "      <th>your fucking</th>\n",
       "      <td>0.000008</td>\n",
       "      <td>0.001660</td>\n",
       "      <td>196.383956</td>\n",
       "    </tr>\n",
       "    <tr>\n",
       "      <th>you stupid</th>\n",
       "      <td>0.000014</td>\n",
       "      <td>0.002582</td>\n",
       "      <td>183.550542</td>\n",
       "    </tr>\n",
       "    <tr>\n",
       "      <th>suck</th>\n",
       "      <td>0.000060</td>\n",
       "      <td>0.010996</td>\n",
       "      <td>182.887848</td>\n",
       "    </tr>\n",
       "    <tr>\n",
       "      <th>is fucking</th>\n",
       "      <td>0.000010</td>\n",
       "      <td>0.001865</td>\n",
       "      <td>179.884110</td>\n",
       "    </tr>\n",
       "    <tr>\n",
       "      <th>cocksucker</th>\n",
       "      <td>0.000007</td>\n",
       "      <td>0.001220</td>\n",
       "      <td>176.018351</td>\n",
       "    </tr>\n",
       "    <tr>\n",
       "      <th>you faggot</th>\n",
       "      <td>0.000007</td>\n",
       "      <td>0.001203</td>\n",
       "      <td>173.565926</td>\n",
       "    </tr>\n",
       "    <tr>\n",
       "      <th>of bitch</th>\n",
       "      <td>0.000009</td>\n",
       "      <td>0.001589</td>\n",
       "      <td>169.973817</td>\n",
       "    </tr>\n",
       "    <tr>\n",
       "      <th>asshole</th>\n",
       "      <td>0.000052</td>\n",
       "      <td>0.008437</td>\n",
       "      <td>161.150191</td>\n",
       "    </tr>\n",
       "    <tr>\n",
       "      <th>mother fucker</th>\n",
       "      <td>0.000008</td>\n",
       "      <td>0.001248</td>\n",
       "      <td>156.014854</td>\n",
       "    </tr>\n",
       "    <tr>\n",
       "      <th>my dick</th>\n",
       "      <td>0.000010</td>\n",
       "      <td>0.001577</td>\n",
       "      <td>154.846423</td>\n",
       "    </tr>\n",
       "    <tr>\n",
       "      <th>motherfucking</th>\n",
       "      <td>0.000007</td>\n",
       "      <td>0.001043</td>\n",
       "      <td>150.466200</td>\n",
       "    </tr>\n",
       "    <tr>\n",
       "      <th>...</th>\n",
       "      <td>...</td>\n",
       "      <td>...</td>\n",
       "      <td>...</td>\n",
       "    </tr>\n",
       "    <tr>\n",
       "      <th>tutorial</th>\n",
       "      <td>0.000513</td>\n",
       "      <td>0.000070</td>\n",
       "      <td>0.137335</td>\n",
       "    </tr>\n",
       "    <tr>\n",
       "      <th>about contributing</th>\n",
       "      <td>0.000652</td>\n",
       "      <td>0.000089</td>\n",
       "      <td>0.135650</td>\n",
       "    </tr>\n",
       "    <tr>\n",
       "      <th>sandbox for</th>\n",
       "      <td>0.000642</td>\n",
       "      <td>0.000087</td>\n",
       "      <td>0.135518</td>\n",
       "    </tr>\n",
       "    <tr>\n",
       "      <th>article talk</th>\n",
       "      <td>0.000861</td>\n",
       "      <td>0.000115</td>\n",
       "      <td>0.133110</td>\n",
       "    </tr>\n",
       "    <tr>\n",
       "      <th>please use</th>\n",
       "      <td>0.000911</td>\n",
       "      <td>0.000121</td>\n",
       "      <td>0.132728</td>\n",
       "    </tr>\n",
       "    <tr>\n",
       "      <th>for deletion</th>\n",
       "      <td>0.001540</td>\n",
       "      <td>0.000202</td>\n",
       "      <td>0.130918</td>\n",
       "    </tr>\n",
       "    <tr>\n",
       "      <th>note on</th>\n",
       "      <td>0.000646</td>\n",
       "      <td>0.000084</td>\n",
       "      <td>0.130751</td>\n",
       "    </tr>\n",
       "    <tr>\n",
       "      <th>test worked</th>\n",
       "      <td>0.000560</td>\n",
       "      <td>0.000072</td>\n",
       "      <td>0.127709</td>\n",
       "    </tr>\n",
       "    <tr>\n",
       "      <th>other tests</th>\n",
       "      <td>0.000567</td>\n",
       "      <td>0.000072</td>\n",
       "      <td>0.126123</td>\n",
       "    </tr>\n",
       "    <tr>\n",
       "      <th>experimenting with</th>\n",
       "      <td>0.000569</td>\n",
       "      <td>0.000071</td>\n",
       "      <td>0.125657</td>\n",
       "    </tr>\n",
       "    <tr>\n",
       "      <th>your test</th>\n",
       "      <td>0.000570</td>\n",
       "      <td>0.000071</td>\n",
       "      <td>0.125470</td>\n",
       "    </tr>\n",
       "    <tr>\n",
       "      <th>worked and</th>\n",
       "      <td>0.000573</td>\n",
       "      <td>0.000071</td>\n",
       "      <td>0.124809</td>\n",
       "    </tr>\n",
       "    <tr>\n",
       "      <th>stop if</th>\n",
       "      <td>0.000936</td>\n",
       "      <td>0.000116</td>\n",
       "      <td>0.123985</td>\n",
       "    </tr>\n",
       "    <tr>\n",
       "      <th>tests you</th>\n",
       "      <td>0.000587</td>\n",
       "      <td>0.000071</td>\n",
       "      <td>0.121696</td>\n",
       "    </tr>\n",
       "    <tr>\n",
       "      <th>criteria</th>\n",
       "      <td>0.001212</td>\n",
       "      <td>0.000146</td>\n",
       "      <td>0.120808</td>\n",
       "    </tr>\n",
       "    <tr>\n",
       "      <th>our encyclopedia</th>\n",
       "      <td>0.000614</td>\n",
       "      <td>0.000071</td>\n",
       "      <td>0.116213</td>\n",
       "    </tr>\n",
       "    <tr>\n",
       "      <th>for experimenting</th>\n",
       "      <td>0.000565</td>\n",
       "      <td>0.000065</td>\n",
       "      <td>0.115723</td>\n",
       "    </tr>\n",
       "    <tr>\n",
       "      <th>criteria for</th>\n",
       "      <td>0.000757</td>\n",
       "      <td>0.000085</td>\n",
       "      <td>0.112809</td>\n",
       "    </tr>\n",
       "    <tr>\n",
       "      <th>pages as</th>\n",
       "      <td>0.001162</td>\n",
       "      <td>0.000127</td>\n",
       "      <td>0.109026</td>\n",
       "    </tr>\n",
       "    <tr>\n",
       "      <th>welcome page</th>\n",
       "      <td>0.000684</td>\n",
       "      <td>0.000074</td>\n",
       "      <td>0.108556</td>\n",
       "    </tr>\n",
       "    <tr>\n",
       "      <th>any questions</th>\n",
       "      <td>0.000722</td>\n",
       "      <td>0.000078</td>\n",
       "      <td>0.108167</td>\n",
       "    </tr>\n",
       "    <tr>\n",
       "      <th>speedy deletion</th>\n",
       "      <td>0.001301</td>\n",
       "      <td>0.000135</td>\n",
       "      <td>0.103731</td>\n",
       "    </tr>\n",
       "    <tr>\n",
       "      <th>the welcome</th>\n",
       "      <td>0.000767</td>\n",
       "      <td>0.000079</td>\n",
       "      <td>0.103286</td>\n",
       "    </tr>\n",
       "    <tr>\n",
       "      <th>learn more</th>\n",
       "      <td>0.000737</td>\n",
       "      <td>0.000074</td>\n",
       "      <td>0.100448</td>\n",
       "    </tr>\n",
       "    <tr>\n",
       "      <th>please see</th>\n",
       "      <td>0.001084</td>\n",
       "      <td>0.000099</td>\n",
       "      <td>0.091388</td>\n",
       "    </tr>\n",
       "    <tr>\n",
       "      <th>wikiproject</th>\n",
       "      <td>0.001288</td>\n",
       "      <td>0.000116</td>\n",
       "      <td>0.090349</td>\n",
       "    </tr>\n",
       "    <tr>\n",
       "      <th>did with</th>\n",
       "      <td>0.001144</td>\n",
       "      <td>0.000097</td>\n",
       "      <td>0.084815</td>\n",
       "    </tr>\n",
       "    <tr>\n",
       "      <th>vandalize pages</th>\n",
       "      <td>0.001307</td>\n",
       "      <td>0.000101</td>\n",
       "      <td>0.077069</td>\n",
       "    </tr>\n",
       "    <tr>\n",
       "      <th>redirect</th>\n",
       "      <td>0.004103</td>\n",
       "      <td>0.000304</td>\n",
       "      <td>0.074070</td>\n",
       "    </tr>\n",
       "    <tr>\n",
       "      <th>redirect talk</th>\n",
       "      <td>0.003374</td>\n",
       "      <td>0.000163</td>\n",
       "      <td>0.048240</td>\n",
       "    </tr>\n",
       "  </tbody>\n",
       "</table>\n",
       "<p>40000 rows × 3 columns</p>\n",
       "</div>"
      ],
      "text/plain": [
       "                    Not_toxic     Toxic   spam_ratio\n",
       "token                                               \n",
       "fuck you             0.000014  0.013771  1017.628738\n",
       "fuck                 0.000069  0.033250   478.750356\n",
       "fuck yourself        0.000009  0.004085   445.654132\n",
       "you fucking          0.000010  0.004426   442.251036\n",
       "go fuck              0.000012  0.005026   412.736865\n",
       "fucking              0.000053  0.020091   382.277085\n",
       "suck my              0.000009  0.003175   357.582048\n",
       "fuck off             0.000019  0.006626   350.450002\n",
       "motherfucker         0.000008  0.002681   342.467819\n",
       "fucker               0.000010  0.003177   326.617611\n",
       "you fuck             0.000007  0.002414   322.981228\n",
       "fuckin               0.000010  0.003066   293.662951\n",
       "faggot               0.000027  0.007858   292.316325\n",
       "you suck             0.000011  0.003209   286.629517\n",
       "the fuck             0.000023  0.005838   257.337387\n",
       "bitch                0.000047  0.011077   233.936139\n",
       "cock                 0.000024  0.005184   218.666548\n",
       "are fucking          0.000012  0.002354   204.648111\n",
       "go suck              0.000007  0.001393   200.979715\n",
       "your fucking         0.000008  0.001660   196.383956\n",
       "you stupid           0.000014  0.002582   183.550542\n",
       "suck                 0.000060  0.010996   182.887848\n",
       "is fucking           0.000010  0.001865   179.884110\n",
       "cocksucker           0.000007  0.001220   176.018351\n",
       "you faggot           0.000007  0.001203   173.565926\n",
       "of bitch             0.000009  0.001589   169.973817\n",
       "asshole              0.000052  0.008437   161.150191\n",
       "mother fucker        0.000008  0.001248   156.014854\n",
       "my dick              0.000010  0.001577   154.846423\n",
       "motherfucking        0.000007  0.001043   150.466200\n",
       "...                       ...       ...          ...\n",
       "tutorial             0.000513  0.000070     0.137335\n",
       "about contributing   0.000652  0.000089     0.135650\n",
       "sandbox for          0.000642  0.000087     0.135518\n",
       "article talk         0.000861  0.000115     0.133110\n",
       "please use           0.000911  0.000121     0.132728\n",
       "for deletion         0.001540  0.000202     0.130918\n",
       "note on              0.000646  0.000084     0.130751\n",
       "test worked          0.000560  0.000072     0.127709\n",
       "other tests          0.000567  0.000072     0.126123\n",
       "experimenting with   0.000569  0.000071     0.125657\n",
       "your test            0.000570  0.000071     0.125470\n",
       "worked and           0.000573  0.000071     0.124809\n",
       "stop if              0.000936  0.000116     0.123985\n",
       "tests you            0.000587  0.000071     0.121696\n",
       "criteria             0.001212  0.000146     0.120808\n",
       "our encyclopedia     0.000614  0.000071     0.116213\n",
       "for experimenting    0.000565  0.000065     0.115723\n",
       "criteria for         0.000757  0.000085     0.112809\n",
       "pages as             0.001162  0.000127     0.109026\n",
       "welcome page         0.000684  0.000074     0.108556\n",
       "any questions        0.000722  0.000078     0.108167\n",
       "speedy deletion      0.001301  0.000135     0.103731\n",
       "the welcome          0.000767  0.000079     0.103286\n",
       "learn more           0.000737  0.000074     0.100448\n",
       "please see           0.001084  0.000099     0.091388\n",
       "wikiproject          0.001288  0.000116     0.090349\n",
       "did with             0.001144  0.000097     0.084815\n",
       "vandalize pages      0.001307  0.000101     0.077069\n",
       "redirect             0.004103  0.000304     0.074070\n",
       "redirect talk        0.003374  0.000163     0.048240\n",
       "\n",
       "[40000 rows x 3 columns]"
      ]
     },
     "execution_count": 23,
     "metadata": {},
     "output_type": "execute_result"
    }
   ],
   "source": [
    "# examine the DataFrame sorted by spam_ratio\n",
    "tokens.sort_values('spam_ratio', ascending=False)"
   ]
  },
  {
   "cell_type": "markdown",
   "metadata": {
    "collapsed": true
   },
   "source": [
    "# Test Area:"
   ]
  },
  {
   "cell_type": "code",
   "execution_count": 24,
   "metadata": {},
   "outputs": [],
   "source": [
    "x_dtm = vec_tfid.fit_transform(train_df.comment_text)"
   ]
  },
  {
   "cell_type": "code",
   "execution_count": 25,
   "metadata": {},
   "outputs": [
    {
     "name": "stdout",
     "output_type": "stream",
     "text": [
      "Proba of toxic = 0.998\n",
      "Proba of severe_toxic = 0.0101\n",
      "Proba of obscene = 0.177\n",
      "Proba of threat = 0.998\n",
      "Proba of insult = 0.0255\n",
      "Proba of identity_hate = 0.0186\n"
     ]
    }
   ],
   "source": [
    "comment = ['I will kill you']\n",
    "comment_vec = vec_tfid.transform(comment)\n",
    "for label in model_tab:\n",
    "    model = model_tab[label]\n",
    "    y = train_df[label]\n",
    "    logreg.fit(x_dtm, y)\n",
    "    pred_prob = model.predict_proba(comment_vec)[:,1][0]\n",
    "    print('Proba of '+label+' = {0:.3g}'.format(pred_prob))"
   ]
  },
  {
   "cell_type": "code",
   "execution_count": null,
   "metadata": {},
   "outputs": [],
   "source": []
  },
  {
   "cell_type": "code",
   "execution_count": null,
   "metadata": {},
   "outputs": [],
   "source": []
  }
 ],
 "metadata": {
  "kernelspec": {
   "display_name": "Python 3",
   "language": "python",
   "name": "python3"
  },
  "language_info": {
   "codemirror_mode": {
    "name": "ipython",
    "version": 3
   },
   "file_extension": ".py",
   "mimetype": "text/x-python",
   "name": "python",
   "nbconvert_exporter": "python",
   "pygments_lexer": "ipython3",
   "version": "3.6.6"
  },
  "nbpresent": {
   "slides": {
    "0a83fc6b-17ac-4d27-86e3-eb1ab4cc16a3": {
     "id": "0a83fc6b-17ac-4d27-86e3-eb1ab4cc16a3",
     "prev": "3037fe2d-ce4e-4ad9-b9a3-2e449f45b750",
     "regions": {
      "6693b1a1-5bc9-482f-a00b-6f295b4cf777": {
       "attrs": {
        "height": 0.8,
        "width": 0.8,
        "x": 0.1,
        "y": 0.1
       },
       "content": {
        "cell": "bb45faed-cee7-431c-bb5f-a0df4e780dad",
        "part": "whole"
       },
       "id": "6693b1a1-5bc9-482f-a00b-6f295b4cf777"
      }
     }
    },
    "0ff7f78c-9ee7-41d6-8288-03759eb9cd49": {
     "id": "0ff7f78c-9ee7-41d6-8288-03759eb9cd49",
     "prev": "5b31b61e-13d2-401e-a1d7-4eb61ba98b15",
     "regions": {
      "3d58727b-ce27-4236-a913-72f808724e75": {
       "attrs": {
        "height": 0.8,
        "width": 0.8,
        "x": 0.1,
        "y": 0.1
       },
       "content": {
        "cell": "9c468beb-6b79-435d-8e0a-9168e2a96562",
        "part": "whole"
       },
       "id": "3d58727b-ce27-4236-a913-72f808724e75"
      }
     }
    },
    "108968ba-1ad0-4c6a-a6d2-a6641667532c": {
     "id": "108968ba-1ad0-4c6a-a6d2-a6641667532c",
     "prev": "ae47263e-1ba6-4c08-b25c-24fabb46451a",
     "regions": {
      "720deb55-e165-43b9-ba17-c912af8ad943": {
       "attrs": {
        "height": 0.8,
        "width": 0.8,
        "x": 0.1,
        "y": 0.1
       },
       "content": {
        "cell": "b602462b-41e0-4a0d-83b1-bcb101e06d20",
        "part": "whole"
       },
       "id": "720deb55-e165-43b9-ba17-c912af8ad943"
      }
     }
    },
    "128099bd-3204-432d-9bc8-e025034d08a7": {
     "id": "128099bd-3204-432d-9bc8-e025034d08a7",
     "prev": "c8b3d9ff-9671-4338-8c26-76e516d85e87",
     "regions": {
      "07fe8dd9-af56-4265-896e-0567a4f70587": {
       "attrs": {
        "height": 0.8,
        "width": 0.8,
        "x": 0.1,
        "y": 0.1
       },
       "content": {
        "cell": "c0b0f853-ccca-4734-bc03-4ab0c586e4d5",
        "part": "whole"
       },
       "id": "07fe8dd9-af56-4265-896e-0567a4f70587"
      }
     }
    },
    "1def6ce0-a4dd-45e0-a800-8644978c7c37": {
     "id": "1def6ce0-a4dd-45e0-a800-8644978c7c37",
     "prev": "ef89f317-e2a5-4d08-851e-9cd536c786f6",
     "regions": {
      "e67e4d27-1ca1-412b-bf97-660fefdaf884": {
       "attrs": {
        "height": 0.8,
        "width": 0.8,
        "x": 0.1,
        "y": 0.1
       },
       "content": {
        "cell": "e50e305b-8340-4d90-9e38-5f5ca3abf0ef",
        "part": "whole"
       },
       "id": "e67e4d27-1ca1-412b-bf97-660fefdaf884"
      }
     }
    },
    "221ca2f5-f292-4c22-bafc-ae15abea97b5": {
     "id": "221ca2f5-f292-4c22-bafc-ae15abea97b5",
     "prev": "1def6ce0-a4dd-45e0-a800-8644978c7c37",
     "regions": {
      "ea3a5efe-e643-4fb1-b96c-09e75b798983": {
       "attrs": {
        "height": 0.8,
        "width": 0.8,
        "x": 0.1,
        "y": 0.1
       },
       "content": {
        "cell": "cdb31310-682f-4022-9c47-efeae1f6e415",
        "part": "whole"
       },
       "id": "ea3a5efe-e643-4fb1-b96c-09e75b798983"
      }
     }
    },
    "29817714-5d34-4080-a323-e8c8d9e6ed84": {
     "id": "29817714-5d34-4080-a323-e8c8d9e6ed84",
     "prev": "ff5d3955-80fe-4b15-9b2c-1bdfa0962f92",
     "regions": {
      "57da3793-3993-4659-9c7b-56131c470cc4": {
       "attrs": {
        "height": 0.8,
        "width": 0.8,
        "x": 0.1,
        "y": 0.1
       },
       "content": {
        "cell": "51646701-bda9-4ec0-8d36-6c2d0d29f6fc",
        "part": "whole"
       },
       "id": "57da3793-3993-4659-9c7b-56131c470cc4"
      }
     }
    },
    "2bb509be-1f2c-48d6-8ee6-6fc4ce0082b7": {
     "id": "2bb509be-1f2c-48d6-8ee6-6fc4ce0082b7",
     "prev": "0a83fc6b-17ac-4d27-86e3-eb1ab4cc16a3",
     "regions": {
      "09ad1b73-d37c-43e5-8fb4-268254ce9cb7": {
       "attrs": {
        "height": 0.8,
        "width": 0.8,
        "x": 0.1,
        "y": 0.1
       },
       "content": {
        "cell": "1d07d489-f6cc-405e-af52-76a48f28fd98",
        "part": "whole"
       },
       "id": "09ad1b73-d37c-43e5-8fb4-268254ce9cb7"
      }
     }
    },
    "3037fe2d-ce4e-4ad9-b9a3-2e449f45b750": {
     "id": "3037fe2d-ce4e-4ad9-b9a3-2e449f45b750",
     "prev": "834b8ca3-469b-4a6a-a0a4-d6932711f232",
     "regions": {
      "b2c50da8-a106-42b8-ab7d-5f488143223a": {
       "attrs": {
        "height": 0.8,
        "width": 0.8,
        "x": 0.1,
        "y": 0.1
       },
       "content": {
        "cell": "72bdd77f-efc1-4bc9-b79d-833da402da11",
        "part": "whole"
       },
       "id": "b2c50da8-a106-42b8-ab7d-5f488143223a"
      }
     }
    },
    "42cc9332-e3f0-4764-bac1-d137121dafae": {
     "id": "42cc9332-e3f0-4764-bac1-d137121dafae",
     "prev": "bc48985a-3fa8-4c95-afda-f0b697e3bdcf",
     "regions": {
      "3f8314b7-a3b0-4771-99e0-576764b83945": {
       "attrs": {
        "height": 0.8,
        "width": 0.8,
        "x": 0.1,
        "y": 0.1
       },
       "content": {
        "cell": "238ac920-1054-4a04-a2cd-8955e88d1ca5",
        "part": "whole"
       },
       "id": "3f8314b7-a3b0-4771-99e0-576764b83945"
      }
     }
    },
    "4991306f-fbe8-4fa3-8dd4-891e8925334b": {
     "id": "4991306f-fbe8-4fa3-8dd4-891e8925334b",
     "prev": "0ff7f78c-9ee7-41d6-8288-03759eb9cd49",
     "regions": {
      "7a052a4a-35ac-4e9f-b1fa-3eb4ebb229ac": {
       "attrs": {
        "height": 0.8,
        "width": 0.8,
        "x": 0.1,
        "y": 0.1
       },
       "content": {
        "cell": "aa6a4d90-97ff-4b18-9b11-3c8e73da0848",
        "part": "whole"
       },
       "id": "7a052a4a-35ac-4e9f-b1fa-3eb4ebb229ac"
      }
     }
    },
    "49c29828-e490-4f53-b10d-2f0638be9823": {
     "id": "49c29828-e490-4f53-b10d-2f0638be9823",
     "prev": "42cc9332-e3f0-4764-bac1-d137121dafae",
     "regions": {
      "989248e2-467a-492e-a725-507561920009": {
       "attrs": {
        "height": 0.8,
        "width": 0.8,
        "x": 0.1,
        "y": 0.1
       },
       "content": {
        "cell": "1a9f2fb1-1155-4ac4-9963-145d3bd2297d",
        "part": "whole"
       },
       "id": "989248e2-467a-492e-a725-507561920009"
      }
     }
    },
    "4b92f9f6-dbac-41a9-aeff-3c0bd8ff6f02": {
     "id": "4b92f9f6-dbac-41a9-aeff-3c0bd8ff6f02",
     "prev": "8e552f46-f5dd-4cf4-9659-29eb81bda3f9",
     "regions": {
      "6cfaede0-104b-48ab-8720-cae6c6de29c9": {
       "attrs": {
        "height": 0.8,
        "width": 0.8,
        "x": 0.1,
        "y": 0.1
       },
       "content": {
        "cell": "e9a83f8b-4514-4e88-bde7-8ee2c509d664",
        "part": "whole"
       },
       "id": "6cfaede0-104b-48ab-8720-cae6c6de29c9"
      }
     }
    },
    "4cd54228-51aa-4be9-9d2b-5b6026888a55": {
     "id": "4cd54228-51aa-4be9-9d2b-5b6026888a55",
     "prev": "f1f1ef62-52bc-4212-90f2-a3b155cc240d",
     "regions": {
      "88e20a06-945d-4853-a206-069627ed518f": {
       "attrs": {
        "height": 0.8,
        "width": 0.8,
        "x": 0.1,
        "y": 0.1
       },
       "content": {
        "cell": "8ab0bc8a-cfe1-4309-9364-d40295b99711",
        "part": "whole"
       },
       "id": "88e20a06-945d-4853-a206-069627ed518f"
      }
     }
    },
    "4d232103-784b-4b20-95d6-23f5e9bc615a": {
     "id": "4d232103-784b-4b20-95d6-23f5e9bc615a",
     "prev": "f2c56940-b540-4fca-9bd0-f15178ea4356",
     "regions": {
      "7ac6624a-d3e9-4f67-bcc2-9c50954e8ba4": {
       "attrs": {
        "height": 0.8,
        "width": 0.8,
        "x": 0.1,
        "y": 0.1
       },
       "content": {
        "cell": "60b4a9d4-b256-4038-a1e1-83ff85de3052",
        "part": "whole"
       },
       "id": "7ac6624a-d3e9-4f67-bcc2-9c50954e8ba4"
      }
     }
    },
    "5b31b61e-13d2-401e-a1d7-4eb61ba98b15": {
     "id": "5b31b61e-13d2-401e-a1d7-4eb61ba98b15",
     "prev": "c8c224bc-83cb-4530-9f95-0e161c0fe4ba",
     "regions": {
      "b1d44840-951b-4170-9bf0-bc0468db4696": {
       "attrs": {
        "height": 0.8,
        "width": 0.8,
        "x": 0.1,
        "y": 0.1
       },
       "content": {
        "cell": "30b0fef1-c90c-4a8c-b363-42207008165a",
        "part": "whole"
       },
       "id": "b1d44840-951b-4170-9bf0-bc0468db4696"
      }
     }
    },
    "71f43aaa-8062-47c3-80c4-a1c6cb00a172": {
     "id": "71f43aaa-8062-47c3-80c4-a1c6cb00a172",
     "prev": "baade901-beff-4928-9f49-10574c198f27",
     "regions": {
      "da735bc5-3c80-46a1-bbc6-49cd57ec45d6": {
       "attrs": {
        "height": 0.8,
        "width": 0.8,
        "x": 0.1,
        "y": 0.1
       },
       "content": {
        "cell": "ae33997f-7e02-4161-8aa0-3620f0b8d5c1",
        "part": "whole"
       },
       "id": "da735bc5-3c80-46a1-bbc6-49cd57ec45d6"
      }
     }
    },
    "8294384b-2975-4b7f-bd55-fc8d77cca63a": {
     "id": "8294384b-2975-4b7f-bd55-fc8d77cca63a",
     "prev": "b7b0bf75-c5b4-42cf-88d6-3803802d64e7",
     "regions": {
      "94c083f0-971d-4a3e-a227-821f7c69d24c": {
       "attrs": {
        "height": 0.8,
        "width": 0.8,
        "x": 0.1,
        "y": 0.1
       },
       "content": {
        "cell": "18766647-89a7-4908-be44-8101a33000b1",
        "part": "whole"
       },
       "id": "94c083f0-971d-4a3e-a227-821f7c69d24c"
      }
     }
    },
    "834b8ca3-469b-4a6a-a0a4-d6932711f232": {
     "id": "834b8ca3-469b-4a6a-a0a4-d6932711f232",
     "prev": "8e7d6458-657e-4ee0-8ec0-b4d3b580835f",
     "regions": {
      "4fa76c5d-39cb-491c-a1b6-c7bc89415644": {
       "attrs": {
        "height": 0.8,
        "width": 0.8,
        "x": 0.1,
        "y": 0.1
       },
       "content": {
        "cell": "b4548a95-08cb-44ba-bbc4-5cc4add0e445",
        "part": "whole"
       },
       "id": "4fa76c5d-39cb-491c-a1b6-c7bc89415644"
      }
     }
    },
    "8668307c-da58-4a1c-9f13-cb3ec1f41683": {
     "id": "8668307c-da58-4a1c-9f13-cb3ec1f41683",
     "prev": "2bb509be-1f2c-48d6-8ee6-6fc4ce0082b7",
     "regions": {
      "7d09ac17-d3c5-4f5e-9084-ec3bdfeb40f4": {
       "attrs": {
        "height": 0.8,
        "width": 0.8,
        "x": 0.1,
        "y": 0.1
       },
       "content": {
        "cell": "a4f7e33f-feab-4429-bff5-82b722fc6728",
        "part": "whole"
       },
       "id": "7d09ac17-d3c5-4f5e-9084-ec3bdfeb40f4"
      }
     }
    },
    "8e552f46-f5dd-4cf4-9659-29eb81bda3f9": {
     "id": "8e552f46-f5dd-4cf4-9659-29eb81bda3f9",
     "prev": "933ba7c8-2094-400c-880f-2258852274e4",
     "regions": {
      "90594751-76cd-407c-9cb9-200f37d69460": {
       "attrs": {
        "height": 0.8,
        "width": 0.8,
        "x": 0.1,
        "y": 0.1
       },
       "content": {
        "cell": "bf5e4d9f-238a-4f03-91b8-597f6fcafaef",
        "part": "whole"
       },
       "id": "90594751-76cd-407c-9cb9-200f37d69460"
      }
     }
    },
    "8e7d6458-657e-4ee0-8ec0-b4d3b580835f": {
     "id": "8e7d6458-657e-4ee0-8ec0-b4d3b580835f",
     "prev": "efb27048-75d4-456e-9315-1fc69025aed9",
     "regions": {
      "8dbfaf0f-603f-49fc-aed9-eeb8b2028eb3": {
       "attrs": {
        "height": 0.8,
        "width": 0.8,
        "x": 0.1,
        "y": 0.1
       },
       "content": {
        "cell": "7856fe82-b551-45ad-bca0-a8f1e47431eb",
        "part": "whole"
       },
       "id": "8dbfaf0f-603f-49fc-aed9-eeb8b2028eb3"
      }
     }
    },
    "933ba7c8-2094-400c-880f-2258852274e4": {
     "id": "933ba7c8-2094-400c-880f-2258852274e4",
     "prev": "dc274b0c-e011-494d-b051-a62b67e7860e",
     "regions": {
      "ddae65d8-0f57-4a98-a0ea-286017f1a30c": {
       "attrs": {
        "height": 0.8,
        "width": 0.8,
        "x": 0.1,
        "y": 0.1
       },
       "content": {
        "cell": "57d8c413-e279-4f3e-837e-dde4885939b2",
        "part": "whole"
       },
       "id": "ddae65d8-0f57-4a98-a0ea-286017f1a30c"
      }
     }
    },
    "98227511-b082-4899-9484-47d1973a60ba": {
     "id": "98227511-b082-4899-9484-47d1973a60ba",
     "prev": "f429a9c2-3193-4878-8eaa-d24128125daa",
     "regions": {
      "ad7a6bc1-8f3e-4cda-9ad6-4c72f5d3ee93": {
       "attrs": {
        "height": 0.8,
        "width": 0.8,
        "x": 0.1,
        "y": 0.1
       },
       "content": {
        "cell": "12da8e82-375e-4c9f-b25a-4f8dfd72710d",
        "part": "whole"
       },
       "id": "ad7a6bc1-8f3e-4cda-9ad6-4c72f5d3ee93"
      }
     }
    },
    "9b500261-dead-4443-8ac6-7d0651e3e2b7": {
     "id": "9b500261-dead-4443-8ac6-7d0651e3e2b7",
     "prev": "b8378af7-ca2a-4acc-912b-ea8a432379c8",
     "regions": {
      "5449c146-c37d-466b-b203-473bfb0e6f70": {
       "attrs": {
        "height": 0.8,
        "width": 0.8,
        "x": 0.1,
        "y": 0.1
       },
       "content": {
        "cell": "d99ca327-70cb-420c-ab07-6cae73316738",
        "part": "whole"
       },
       "id": "5449c146-c37d-466b-b203-473bfb0e6f70"
      }
     }
    },
    "a24420d3-ae4c-45ba-8d9f-0ff93490a4c6": {
     "id": "a24420d3-ae4c-45ba-8d9f-0ff93490a4c6",
     "prev": "128099bd-3204-432d-9bc8-e025034d08a7",
     "regions": {
      "960c886a-1674-4f71-aace-43e933f3300e": {
       "attrs": {
        "height": 0.8,
        "width": 0.8,
        "x": 0.1,
        "y": 0.1
       },
       "content": {
        "cell": "bdd58df6-88b2-4288-9b98-b0de0873f945",
        "part": "whole"
       },
       "id": "960c886a-1674-4f71-aace-43e933f3300e"
      }
     }
    },
    "a2558448-7603-4a06-b5dd-d356feed36e1": {
     "id": "a2558448-7603-4a06-b5dd-d356feed36e1",
     "prev": "9b500261-dead-4443-8ac6-7d0651e3e2b7",
     "regions": {
      "a6167d38-8e86-484b-8fc6-5995d0b7644e": {
       "attrs": {
        "height": 0.8,
        "width": 0.8,
        "x": 0.1,
        "y": 0.1
       },
       "content": {
        "cell": "2c377949-9bdf-470c-ab40-650b093cdab5",
        "part": "whole"
       },
       "id": "a6167d38-8e86-484b-8fc6-5995d0b7644e"
      }
     }
    },
    "ae47263e-1ba6-4c08-b25c-24fabb46451a": {
     "id": "ae47263e-1ba6-4c08-b25c-24fabb46451a",
     "prev": "49c29828-e490-4f53-b10d-2f0638be9823",
     "regions": {
      "9076d9ab-fbfd-4e78-bdbf-b83068132f66": {
       "attrs": {
        "height": 0.8,
        "width": 0.8,
        "x": 0.1,
        "y": 0.1
       },
       "content": {
        "cell": "1ed11770-628f-4912-85c7-638c515b47fb",
        "part": "whole"
       },
       "id": "9076d9ab-fbfd-4e78-bdbf-b83068132f66"
      }
     }
    },
    "af518937-b4f7-4489-ad2d-a9806103150f": {
     "id": "af518937-b4f7-4489-ad2d-a9806103150f",
     "prev": null,
     "regions": {
      "4d3f7f7f-7459-49f9-9e4f-e3ba7358502c": {
       "attrs": {
        "height": 0.8,
        "width": 0.8,
        "x": 0.1,
        "y": 0.1
       },
       "content": {
        "cell": "9e5d9ad2-606f-4626-9cb1-0f04396b6880",
        "part": "whole"
       },
       "id": "4d3f7f7f-7459-49f9-9e4f-e3ba7358502c"
      }
     }
    },
    "b2ad1997-8ec2-42ff-9c51-7a408eb8d5e3": {
     "id": "b2ad1997-8ec2-42ff-9c51-7a408eb8d5e3",
     "prev": "221ca2f5-f292-4c22-bafc-ae15abea97b5",
     "regions": {
      "64750128-3130-48b8-98c3-ab93699bc46b": {
       "attrs": {
        "height": 0.8,
        "width": 0.8,
        "x": 0.1,
        "y": 0.1
       },
       "content": {
        "cell": "7a91e923-6852-4e5c-8b1e-bda321b46c8c",
        "part": "whole"
       },
       "id": "64750128-3130-48b8-98c3-ab93699bc46b"
      }
     }
    },
    "b5b8c51d-fd05-4ba3-934e-649f6686675a": {
     "id": "b5b8c51d-fd05-4ba3-934e-649f6686675a",
     "prev": "71f43aaa-8062-47c3-80c4-a1c6cb00a172",
     "regions": {
      "ba9cc4fa-122a-4793-b0f7-94504c43ae9d": {
       "attrs": {
        "height": 0.8,
        "width": 0.8,
        "x": 0.1,
        "y": 0.1
       },
       "content": {
        "cell": "5b8496bc-f742-4cea-b9ad-95c391146a34",
        "part": "whole"
       },
       "id": "ba9cc4fa-122a-4793-b0f7-94504c43ae9d"
      }
     }
    },
    "b7b0bf75-c5b4-42cf-88d6-3803802d64e7": {
     "id": "b7b0bf75-c5b4-42cf-88d6-3803802d64e7",
     "prev": "98227511-b082-4899-9484-47d1973a60ba",
     "regions": {
      "2bd8a40f-f555-46dd-8571-01552a420e15": {
       "attrs": {
        "height": 0.8,
        "width": 0.8,
        "x": 0.1,
        "y": 0.1
       },
       "content": {
        "cell": "c3ea41a7-993c-4834-a532-b3924f241d04",
        "part": "whole"
       },
       "id": "2bd8a40f-f555-46dd-8571-01552a420e15"
      }
     }
    },
    "b8378af7-ca2a-4acc-912b-ea8a432379c8": {
     "id": "b8378af7-ca2a-4acc-912b-ea8a432379c8",
     "prev": "8294384b-2975-4b7f-bd55-fc8d77cca63a",
     "regions": {
      "4cd7f0ea-5f2e-45e0-9fa0-e77edc772fee": {
       "attrs": {
        "height": 0.8,
        "width": 0.8,
        "x": 0.1,
        "y": 0.1
       },
       "content": {
        "cell": "5c5fc4cf-539d-476c-92c5-6ce8eb17f83a",
        "part": "whole"
       },
       "id": "4cd7f0ea-5f2e-45e0-9fa0-e77edc772fee"
      }
     }
    },
    "baade901-beff-4928-9f49-10574c198f27": {
     "id": "baade901-beff-4928-9f49-10574c198f27",
     "prev": "4991306f-fbe8-4fa3-8dd4-891e8925334b",
     "regions": {
      "3fb8ea71-93f1-4db0-91a7-908ff6ea1062": {
       "attrs": {
        "height": 0.8,
        "width": 0.8,
        "x": 0.1,
        "y": 0.1
       },
       "content": {
        "cell": "fb029d71-e5d4-42df-b716-890dc1ffb1a0",
        "part": "whole"
       },
       "id": "3fb8ea71-93f1-4db0-91a7-908ff6ea1062"
      }
     }
    },
    "bc48985a-3fa8-4c95-afda-f0b697e3bdcf": {
     "id": "bc48985a-3fa8-4c95-afda-f0b697e3bdcf",
     "prev": "c5647b84-92e6-462b-a2e8-f327bfe705a9",
     "regions": {
      "efe15638-8478-4da2-873d-b352f3b6dab4": {
       "attrs": {
        "height": 0.8,
        "width": 0.8,
        "x": 0.1,
        "y": 0.1
       },
       "content": {
        "cell": "9d626ba1-a09c-49d7-8d04-a449377a5e9d",
        "part": "whole"
       },
       "id": "efe15638-8478-4da2-873d-b352f3b6dab4"
      }
     }
    },
    "c5647b84-92e6-462b-a2e8-f327bfe705a9": {
     "id": "c5647b84-92e6-462b-a2e8-f327bfe705a9",
     "prev": "df1041fa-1447-4f2a-9979-75e89451c55f",
     "regions": {
      "fec5fb14-bf5b-4678-9866-d282774aa6f8": {
       "attrs": {
        "height": 0.8,
        "width": 0.8,
        "x": 0.1,
        "y": 0.1
       },
       "content": {
        "cell": "0dca0d63-7db7-4462-9a09-4951e6568871",
        "part": "whole"
       },
       "id": "fec5fb14-bf5b-4678-9866-d282774aa6f8"
      }
     }
    },
    "c8b3d9ff-9671-4338-8c26-76e516d85e87": {
     "id": "c8b3d9ff-9671-4338-8c26-76e516d85e87",
     "prev": "b5b8c51d-fd05-4ba3-934e-649f6686675a",
     "regions": {
      "fb86f283-ce96-4f12-ad78-2618b1eb439f": {
       "attrs": {
        "height": 0.8,
        "width": 0.8,
        "x": 0.1,
        "y": 0.1
       },
       "content": {
        "cell": "e1091769-8e62-4904-83a1-30b0fa581379",
        "part": "whole"
       },
       "id": "fb86f283-ce96-4f12-ad78-2618b1eb439f"
      }
     }
    },
    "c8c224bc-83cb-4530-9f95-0e161c0fe4ba": {
     "id": "c8c224bc-83cb-4530-9f95-0e161c0fe4ba",
     "prev": "4d232103-784b-4b20-95d6-23f5e9bc615a",
     "regions": {
      "c0eec290-1f63-4296-b434-d38d1463d760": {
       "attrs": {
        "height": 0.8,
        "width": 0.8,
        "x": 0.1,
        "y": 0.1
       },
       "content": {
        "cell": "467c71f6-5e01-460e-ab64-2e453b772cd4",
        "part": "whole"
       },
       "id": "c0eec290-1f63-4296-b434-d38d1463d760"
      }
     }
    },
    "dc274b0c-e011-494d-b051-a62b67e7860e": {
     "id": "dc274b0c-e011-494d-b051-a62b67e7860e",
     "prev": "b2ad1997-8ec2-42ff-9c51-7a408eb8d5e3",
     "regions": {
      "09a5b602-17f8-4df9-88fc-ab4d81d4820e": {
       "attrs": {
        "height": 0.8,
        "width": 0.8,
        "x": 0.1,
        "y": 0.1
       },
       "content": {
        "cell": "b29601a7-ad49-4593-98c8-4e849ff3efef",
        "part": "whole"
       },
       "id": "09a5b602-17f8-4df9-88fc-ab4d81d4820e"
      }
     }
    },
    "df1041fa-1447-4f2a-9979-75e89451c55f": {
     "id": "df1041fa-1447-4f2a-9979-75e89451c55f",
     "prev": "af518937-b4f7-4489-ad2d-a9806103150f",
     "regions": {
      "40af00e2-c675-4faf-b6cd-d7ddf1f65bb3": {
       "attrs": {
        "height": 0.8,
        "width": 0.8,
        "x": 0.1,
        "y": 0.1
       },
       "content": {
        "cell": "d83d2cf5-c17c-4f6e-b4ab-075d36f913b6",
        "part": "whole"
       },
       "id": "40af00e2-c675-4faf-b6cd-d7ddf1f65bb3"
      }
     }
    },
    "ef89f317-e2a5-4d08-851e-9cd536c786f6": {
     "id": "ef89f317-e2a5-4d08-851e-9cd536c786f6",
     "prev": "a24420d3-ae4c-45ba-8d9f-0ff93490a4c6",
     "regions": {
      "633ddf0a-7b65-4f63-89cb-edca52a24d54": {
       "attrs": {
        "height": 0.8,
        "width": 0.8,
        "x": 0.1,
        "y": 0.1
       },
       "content": {
        "cell": "6f8a05c6-99a8-4057-9c08-f018b05a523d",
        "part": "whole"
       },
       "id": "633ddf0a-7b65-4f63-89cb-edca52a24d54"
      }
     }
    },
    "efb27048-75d4-456e-9315-1fc69025aed9": {
     "id": "efb27048-75d4-456e-9315-1fc69025aed9",
     "prev": "4b92f9f6-dbac-41a9-aeff-3c0bd8ff6f02",
     "regions": {
      "0bf8c1eb-d3a2-41c6-8dca-c6d9284e2255": {
       "attrs": {
        "height": 0.8,
        "width": 0.8,
        "x": 0.1,
        "y": 0.1
       },
       "content": {
        "cell": "f9c2a99a-0fa6-4aac-b2ed-2ce5cd064e55",
        "part": "whole"
       },
       "id": "0bf8c1eb-d3a2-41c6-8dca-c6d9284e2255"
      }
     }
    },
    "f1f1ef62-52bc-4212-90f2-a3b155cc240d": {
     "id": "f1f1ef62-52bc-4212-90f2-a3b155cc240d",
     "prev": "a2558448-7603-4a06-b5dd-d356feed36e1",
     "regions": {
      "30c452ad-62bf-4cc7-9620-5d4df268a8c7": {
       "attrs": {
        "height": 0.8,
        "width": 0.8,
        "x": 0.1,
        "y": 0.1
       },
       "content": {
        "cell": "10249ecc-c6a9-431a-86e3-537a08663c6a",
        "part": "whole"
       },
       "id": "30c452ad-62bf-4cc7-9620-5d4df268a8c7"
      }
     }
    },
    "f2c56940-b540-4fca-9bd0-f15178ea4356": {
     "id": "f2c56940-b540-4fca-9bd0-f15178ea4356",
     "prev": "108968ba-1ad0-4c6a-a6d2-a6641667532c",
     "regions": {
      "d261b97a-f1ac-41da-86a3-387c217ff7a2": {
       "attrs": {
        "height": 0.8,
        "width": 0.8,
        "x": 0.1,
        "y": 0.1
       },
       "content": {
        "cell": "3adfbde4-e19e-40f2-a950-fd3cd51365d6",
        "part": "whole"
       },
       "id": "d261b97a-f1ac-41da-86a3-387c217ff7a2"
      }
     }
    },
    "f429a9c2-3193-4878-8eaa-d24128125daa": {
     "id": "f429a9c2-3193-4878-8eaa-d24128125daa",
     "prev": "8668307c-da58-4a1c-9f13-cb3ec1f41683",
     "regions": {
      "b716209c-a732-4fe4-bc63-96e0f1c0870f": {
       "attrs": {
        "height": 0.8,
        "width": 0.8,
        "x": 0.1,
        "y": 0.1
       },
       "content": {
        "cell": "19d5af10-8bfe-4ca5-9221-e2de6ec00f8b",
        "part": "whole"
       },
       "id": "b716209c-a732-4fe4-bc63-96e0f1c0870f"
      }
     }
    },
    "ff5d3955-80fe-4b15-9b2c-1bdfa0962f92": {
     "id": "ff5d3955-80fe-4b15-9b2c-1bdfa0962f92",
     "prev": "4cd54228-51aa-4be9-9d2b-5b6026888a55",
     "regions": {
      "e3f9b0ed-f790-4b8d-a99e-80274eac75e8": {
       "attrs": {
        "height": 0.8,
        "width": 0.8,
        "x": 0.1,
        "y": 0.1
       },
       "content": {
        "cell": "a7d6b869-d82e-49a5-836c-e5f6bf74e2fd",
        "part": "whole"
       },
       "id": "e3f9b0ed-f790-4b8d-a99e-80274eac75e8"
      }
     }
    }
   },
   "themes": {}
  }
 },
 "nbformat": 4,
 "nbformat_minor": 2
}
